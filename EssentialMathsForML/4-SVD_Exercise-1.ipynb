{
 "cells": [
  {
   "cell_type": "code",
   "execution_count": 1,
   "id": "fd185461",
   "metadata": {},
   "outputs": [],
   "source": [
    "import numpy as np\n",
    "np.set_printoptions(precision=4,suppress=True)"
   ]
  },
  {
   "cell_type": "code",
   "execution_count": 2,
   "id": "61276390",
   "metadata": {},
   "outputs": [],
   "source": [
    "a = np.array([[1,2,3,4],[1,1,2,3],[0,1,1,0]])"
   ]
  },
  {
   "cell_type": "code",
   "execution_count": 3,
   "id": "7a8256f8",
   "metadata": {},
   "outputs": [
    {
     "data": {
      "text/plain": [
       "array([[1, 2, 3, 4],\n",
       "       [1, 1, 2, 3],\n",
       "       [0, 1, 1, 0]])"
      ]
     },
     "execution_count": 3,
     "metadata": {},
     "output_type": "execute_result"
    }
   ],
   "source": [
    "a"
   ]
  },
  {
   "cell_type": "code",
   "execution_count": 4,
   "id": "7569788a",
   "metadata": {},
   "outputs": [],
   "source": [
    "u, s, vh = np.linalg.svd(a, full_matrices=True)"
   ]
  },
  {
   "cell_type": "code",
   "execution_count": 5,
   "id": "8b7f20dd",
   "metadata": {},
   "outputs": [
    {
     "data": {
      "text/plain": [
       "array([[ 0.8109, -0.0934,  0.5776],\n",
       "       [ 0.57  ,  0.3493, -0.7437],\n",
       "       [ 0.1323, -0.9324, -0.3365]])"
      ]
     },
     "execution_count": 5,
     "metadata": {},
     "output_type": "execute_result"
    }
   ],
   "source": [
    "u"
   ]
  },
  {
   "cell_type": "code",
   "execution_count": 6,
   "id": "9544a9c0",
   "metadata": {},
   "outputs": [
    {
     "data": {
      "text/plain": [
       "array([[ 0.2046,  0.3443,  0.5488,  0.7338],\n",
       "       [ 0.2181, -0.6561, -0.438 ,  0.5746],\n",
       "       [-0.7598,  0.3431, -0.4167,  0.3625],\n",
       "       [-0.5774, -0.5774,  0.5774,  0.    ]])"
      ]
     },
     "execution_count": 6,
     "metadata": {},
     "output_type": "execute_result"
    }
   ],
   "source": [
    "vh"
   ]
  },
  {
   "cell_type": "code",
   "execution_count": 23,
   "id": "96d90897",
   "metadata": {},
   "outputs": [],
   "source": [
    "s=[6.7509, 1.1734, 0]"
   ]
  },
  {
   "cell_type": "code",
   "execution_count": 8,
   "id": "c9218271",
   "metadata": {},
   "outputs": [
    {
     "data": {
      "text/plain": [
       "((3, 3), (3,), (4, 4))"
      ]
     },
     "execution_count": 8,
     "metadata": {},
     "output_type": "execute_result"
    }
   ],
   "source": [
    "u.shape, s.shape, vh.shape"
   ]
  },
  {
   "cell_type": "code",
   "execution_count": 11,
   "id": "7d41f32f",
   "metadata": {},
   "outputs": [],
   "source": [
    "#####################################################################"
   ]
  },
  {
   "cell_type": "code",
   "execution_count": 24,
   "id": "aa04225b",
   "metadata": {},
   "outputs": [
    {
     "data": {
      "text/plain": [
       "array([[6.7509, 0.    , 0.    ],\n",
       "       [0.    , 1.1734, 0.    ],\n",
       "       [0.    , 0.    , 0.    ]])"
      ]
     },
     "execution_count": 24,
     "metadata": {},
     "output_type": "execute_result"
    }
   ],
   "source": [
    "sd = np.diag(s)\n",
    "sd"
   ]
  },
  {
   "cell_type": "code",
   "execution_count": 13,
   "id": "d6a60ea9",
   "metadata": {},
   "outputs": [
    {
     "data": {
      "text/plain": [
       "(3, 3)"
      ]
     },
     "execution_count": 13,
     "metadata": {},
     "output_type": "execute_result"
    }
   ],
   "source": [
    "sd.shape"
   ]
  },
  {
   "cell_type": "code",
   "execution_count": 14,
   "id": "3e33194a",
   "metadata": {},
   "outputs": [],
   "source": [
    "b = np.zeros((3,4))"
   ]
  },
  {
   "cell_type": "code",
   "execution_count": 15,
   "id": "df350812",
   "metadata": {},
   "outputs": [
    {
     "data": {
      "text/plain": [
       "array([[0., 0., 0., 0.],\n",
       "       [0., 0., 0., 0.],\n",
       "       [0., 0., 0., 0.]])"
      ]
     },
     "execution_count": 15,
     "metadata": {},
     "output_type": "execute_result"
    }
   ],
   "source": [
    "b"
   ]
  },
  {
   "cell_type": "code",
   "execution_count": 25,
   "id": "2676ea9e",
   "metadata": {},
   "outputs": [],
   "source": [
    "b[:,:-1]=sd"
   ]
  },
  {
   "cell_type": "code",
   "execution_count": 26,
   "id": "3a96abd8",
   "metadata": {},
   "outputs": [
    {
     "data": {
      "text/plain": [
       "array([[6.7509, 0.    , 0.    , 0.    ],\n",
       "       [0.    , 1.1734, 0.    , 0.    ],\n",
       "       [0.    , 0.    , 0.    , 0.    ]])"
      ]
     },
     "execution_count": 26,
     "metadata": {},
     "output_type": "execute_result"
    }
   ],
   "source": [
    "sigma = b\n",
    "sigma"
   ]
  },
  {
   "cell_type": "code",
   "execution_count": 27,
   "id": "784e6b4a",
   "metadata": {},
   "outputs": [
    {
     "name": "stdout",
     "output_type": "stream",
     "text": [
      "[[ 1.0959  1.9567  3.0526  3.9542]\n",
      " [ 0.8764  1.0558  1.9322  3.0589]\n",
      " [-0.0559  1.0252  0.9693  0.0267]]\n"
     ]
    }
   ],
   "source": [
    "print(np.dot(np.dot(u,sigma),vh))"
   ]
  },
  {
   "cell_type": "code",
   "execution_count": 29,
   "id": "038cfb97",
   "metadata": {},
   "outputs": [],
   "source": [
    "##################-----EXAMPLE-2------#######################"
   ]
  },
  {
   "cell_type": "code",
   "execution_count": 30,
   "id": "51d21649",
   "metadata": {},
   "outputs": [],
   "source": [
    "a = np.array([[1,2,3,4], [1,1,2,3], [0,1,1,0], [0,2,2,0], [0,5,5,0]])"
   ]
  },
  {
   "cell_type": "code",
   "execution_count": 31,
   "id": "4a0fceed",
   "metadata": {},
   "outputs": [
    {
     "data": {
      "text/plain": [
       "array([[1, 2, 3, 4],\n",
       "       [1, 1, 2, 3],\n",
       "       [0, 1, 1, 0],\n",
       "       [0, 2, 2, 0],\n",
       "       [0, 5, 5, 0]])"
      ]
     },
     "execution_count": 31,
     "metadata": {},
     "output_type": "execute_result"
    }
   ],
   "source": [
    "a"
   ]
  },
  {
   "cell_type": "code",
   "execution_count": 32,
   "id": "30d38029",
   "metadata": {},
   "outputs": [],
   "source": [
    "u, s, vh = np.linalg.svd(a)"
   ]
  },
  {
   "cell_type": "code",
   "execution_count": 33,
   "id": "1d9c9ab0",
   "metadata": {},
   "outputs": [
    {
     "data": {
      "text/plain": [
       "array([[-0.5185, -0.5983,  0.6108, -0.    , -0.    ],\n",
       "       [-0.3389, -0.512 , -0.7893,  0.    ,  0.    ],\n",
       "       [-0.1433,  0.1125, -0.0114, -0.4103, -0.8935],\n",
       "       [-0.2866,  0.225 , -0.0229, -0.8155,  0.4491],\n",
       "       [-0.7166,  0.5626, -0.0572,  0.4082, -0.001 ]])"
      ]
     },
     "execution_count": 33,
     "metadata": {},
     "output_type": "execute_result"
    }
   ],
   "source": [
    "u "
   ]
  },
  {
   "cell_type": "code",
   "execution_count": 34,
   "id": "41901ae2",
   "metadata": {},
   "outputs": [
    {
     "data": {
      "text/plain": [
       "array([9.2296, 4.4454, 0.2312, 0.    ])"
      ]
     },
     "execution_count": 34,
     "metadata": {},
     "output_type": "execute_result"
    }
   ],
   "source": [
    "s"
   ]
  },
  {
   "cell_type": "code",
   "execution_count": 35,
   "id": "4bff3687",
   "metadata": {},
   "outputs": [
    {
     "data": {
      "text/plain": [
       "array([[-0.0929, -0.6149, -0.7079, -0.3349],\n",
       "       [-0.2498,  0.375 ,  0.1252, -0.8839],\n",
       "       [-0.7718,  0.3846, -0.3872,  0.3264],\n",
       "       [ 0.5774,  0.5774, -0.5774,  0.    ]])"
      ]
     },
     "execution_count": 35,
     "metadata": {},
     "output_type": "execute_result"
    }
   ],
   "source": [
    "vh"
   ]
  },
  {
   "cell_type": "code",
   "execution_count": null,
   "id": "1ab51928",
   "metadata": {},
   "outputs": [],
   "source": []
  }
 ],
 "metadata": {
  "kernelspec": {
   "display_name": "Python 3 (ipykernel)",
   "language": "python",
   "name": "python3"
  },
  "language_info": {
   "codemirror_mode": {
    "name": "ipython",
    "version": 3
   },
   "file_extension": ".py",
   "mimetype": "text/x-python",
   "name": "python",
   "nbconvert_exporter": "python",
   "pygments_lexer": "ipython3",
   "version": "3.9.12"
  }
 },
 "nbformat": 4,
 "nbformat_minor": 5
}
