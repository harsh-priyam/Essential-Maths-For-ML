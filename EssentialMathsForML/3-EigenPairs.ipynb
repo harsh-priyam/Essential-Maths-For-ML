{
 "cells": [
  {
   "cell_type": "code",
   "execution_count": 1,
   "id": "f4929515",
   "metadata": {},
   "outputs": [],
   "source": [
    "import numpy as np"
   ]
  },
  {
   "cell_type": "code",
   "execution_count": 2,
   "id": "2482a4e7",
   "metadata": {},
   "outputs": [],
   "source": [
    "A = np.array([[2,-2,3],[1,1,1],[1,3,-1]])"
   ]
  },
  {
   "cell_type": "code",
   "execution_count": 3,
   "id": "045303ab",
   "metadata": {},
   "outputs": [
    {
     "data": {
      "text/plain": [
       "array([[ 2, -2,  3],\n",
       "       [ 1,  1,  1],\n",
       "       [ 1,  3, -1]])"
      ]
     },
     "execution_count": 3,
     "metadata": {},
     "output_type": "execute_result"
    }
   ],
   "source": [
    "A"
   ]
  },
  {
   "cell_type": "code",
   "execution_count": 4,
   "id": "3ea5ee5e",
   "metadata": {},
   "outputs": [],
   "source": [
    "#calculate eigen values and eigen vectors"
   ]
  },
  {
   "cell_type": "code",
   "execution_count": 5,
   "id": "967f4ee4",
   "metadata": {},
   "outputs": [],
   "source": [
    "values , vectors = np.linalg.eig(A)"
   ]
  },
  {
   "cell_type": "code",
   "execution_count": 7,
   "id": "549c6f54",
   "metadata": {},
   "outputs": [
    {
     "name": "stdout",
     "output_type": "stream",
     "text": [
      "[ 3.  1. -2.]\n"
     ]
    }
   ],
   "source": [
    "print(values)"
   ]
  },
  {
   "cell_type": "code",
   "execution_count": 8,
   "id": "2f35b26f",
   "metadata": {},
   "outputs": [
    {
     "name": "stdout",
     "output_type": "stream",
     "text": [
      "[[ 0.57735027  0.57735027 -0.61684937]\n",
      " [ 0.57735027 -0.57735027 -0.05607722]\n",
      " [ 0.57735027 -0.57735027  0.78508102]]\n"
     ]
    }
   ],
   "source": [
    "print(vectors)"
   ]
  },
  {
   "cell_type": "code",
   "execution_count": 13,
   "id": "7bd2d26d",
   "metadata": {},
   "outputs": [],
   "source": [
    "B = np.array([[2,0,0],[0,1,0],[0,0,-1]])"
   ]
  },
  {
   "cell_type": "code",
   "execution_count": 14,
   "id": "b321591c",
   "metadata": {},
   "outputs": [
    {
     "data": {
      "text/plain": [
       "array([[ 2,  0,  0],\n",
       "       [ 0,  1,  0],\n",
       "       [ 0,  0, -1]])"
      ]
     },
     "execution_count": 14,
     "metadata": {},
     "output_type": "execute_result"
    }
   ],
   "source": [
    "B"
   ]
  },
  {
   "cell_type": "code",
   "execution_count": 15,
   "id": "579d3bc2",
   "metadata": {},
   "outputs": [],
   "source": [
    "values , vectors = np.linalg.eig(B)"
   ]
  },
  {
   "cell_type": "code",
   "execution_count": 16,
   "id": "9b42e4fa",
   "metadata": {},
   "outputs": [
    {
     "name": "stdout",
     "output_type": "stream",
     "text": [
      "[ 2.  1. -1.]\n"
     ]
    }
   ],
   "source": [
    "print(values)"
   ]
  },
  {
   "cell_type": "code",
   "execution_count": 17,
   "id": "99d90191",
   "metadata": {},
   "outputs": [
    {
     "name": "stdout",
     "output_type": "stream",
     "text": [
      "[[1. 0. 0.]\n",
      " [0. 1. 0.]\n",
      " [0. 0. 1.]]\n"
     ]
    }
   ],
   "source": [
    "print(vectors)"
   ]
  },
  {
   "cell_type": "code",
   "execution_count": null,
   "id": "61e6e51b",
   "metadata": {},
   "outputs": [],
   "source": []
  }
 ],
 "metadata": {
  "kernelspec": {
   "display_name": "Python 3 (ipykernel)",
   "language": "python",
   "name": "python3"
  },
  "language_info": {
   "codemirror_mode": {
    "name": "ipython",
    "version": 3
   },
   "file_extension": ".py",
   "mimetype": "text/x-python",
   "name": "python",
   "nbconvert_exporter": "python",
   "pygments_lexer": "ipython3",
   "version": "3.9.12"
  }
 },
 "nbformat": 4,
 "nbformat_minor": 5
}
