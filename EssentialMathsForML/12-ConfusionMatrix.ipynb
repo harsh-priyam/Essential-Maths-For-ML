{
 "cells": [
  {
   "cell_type": "code",
   "execution_count": 1,
   "id": "7b9c4572",
   "metadata": {},
   "outputs": [],
   "source": [
    "from sklearn import metrics"
   ]
  },
  {
   "cell_type": "code",
   "execution_count": 2,
   "id": "9c734124",
   "metadata": {},
   "outputs": [],
   "source": [
    "y_actual = [\"c\",\"h\",\"f\",\"c\",\"h\",\"f\",\"c\",\"h\",\"h\"]\n",
    "y_pred = [\"c\",\"c\",\"f\",\"h\",\"h\",\"c\",\"c\",\"f\",\"f\"]"
   ]
  },
  {
   "cell_type": "code",
   "execution_count": 3,
   "id": "06a27b9d",
   "metadata": {},
   "outputs": [
    {
     "name": "stdout",
     "output_type": "stream",
     "text": [
      "[[2 1 0]\n",
      " [1 1 2]\n",
      " [1 0 1]]\n"
     ]
    }
   ],
   "source": [
    "cm=metrics.confusion_matrix(y_actual,y_pred,labels=[\"c\",\"h\",\"f\"])\n",
    "print(cm)"
   ]
  },
  {
   "cell_type": "code",
   "execution_count": 4,
   "id": "aabdc994",
   "metadata": {},
   "outputs": [
    {
     "name": "stdout",
     "output_type": "stream",
     "text": [
      "              precision    recall  f1-score   support\n",
      "\n",
      "           c       0.50      0.67      0.57         3\n",
      "           h       0.50      0.25      0.33         4\n",
      "           f       0.33      0.50      0.40         2\n",
      "\n",
      "    accuracy                           0.44         9\n",
      "   macro avg       0.44      0.47      0.43         9\n",
      "weighted avg       0.46      0.44      0.43         9\n",
      "\n"
     ]
    }
   ],
   "source": [
    "cm=metrics.classification_report(y_actual,y_pred,labels=[\"c\",\"h\",\"f\"])\n",
    "print(cm)"
   ]
  },
  {
   "cell_type": "code",
   "execution_count": null,
   "id": "c6511efa",
   "metadata": {},
   "outputs": [],
   "source": []
  }
 ],
 "metadata": {
  "kernelspec": {
   "display_name": "Python 3 (ipykernel)",
   "language": "python",
   "name": "python3"
  },
  "language_info": {
   "codemirror_mode": {
    "name": "ipython",
    "version": 3
   },
   "file_extension": ".py",
   "mimetype": "text/x-python",
   "name": "python",
   "nbconvert_exporter": "python",
   "pygments_lexer": "ipython3",
   "version": "3.9.12"
  }
 },
 "nbformat": 4,
 "nbformat_minor": 5
}
