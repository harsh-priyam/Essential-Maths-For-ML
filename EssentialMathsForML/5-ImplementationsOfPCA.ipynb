{
 "cells": [
  {
   "cell_type": "code",
   "execution_count": 1,
   "id": "b5e22c07",
   "metadata": {},
   "outputs": [],
   "source": [
    "#Creating Dataset:"
   ]
  },
  {
   "cell_type": "code",
   "execution_count": 2,
   "id": "4a50f999",
   "metadata": {},
   "outputs": [],
   "source": [
    "import numpy as np"
   ]
  },
  {
   "cell_type": "code",
   "execution_count": 3,
   "id": "94981fd8",
   "metadata": {},
   "outputs": [],
   "source": [
    "X=np.array([[1,3,5,7,9,13,20,20,21,24,26],[5,7,11,14,15,17,18,19,21,22,26]])"
   ]
  },
  {
   "cell_type": "code",
   "execution_count": 12,
   "id": "31306906",
   "metadata": {},
   "outputs": [
    {
     "name": "stdout",
     "output_type": "stream",
     "text": [
      "[[ 1  5]\n",
      " [ 3  7]\n",
      " [ 5 11]\n",
      " [ 7 14]\n",
      " [ 9 15]\n",
      " [13 17]\n",
      " [20 18]\n",
      " [20 19]\n",
      " [21 21]\n",
      " [24 22]\n",
      " [26 26]]\n"
     ]
    }
   ],
   "source": [
    "XT = X.T\n",
    "print(XT)"
   ]
  },
  {
   "cell_type": "code",
   "execution_count": 18,
   "id": "bef0f8e3",
   "metadata": {},
   "outputs": [
    {
     "data": {
      "text/plain": [
       "<matplotlib.collections.PathCollection at 0x217d0482700>"
      ]
     },
     "execution_count": 18,
     "metadata": {},
     "output_type": "execute_result"
    },
    {
     "data": {
      "image/png": "[encoded data removed]",
      "text/plain": [
       "<Figure size 432x288 with 1 Axes>"
      ]
     },
     "metadata": {
      "needs_background": "light"
     },
     "output_type": "display_data"
    }
   ],
   "source": [
    "import matplotlib.pyplot as plt\n",
    "plt.figure\n",
    "plt.scatter(XT[:,0],XT[:,1])"
   ]
  },
  {
   "cell_type": "code",
   "execution_count": 22,
   "id": "355e6663",
   "metadata": {},
   "outputs": [
    {
     "name": "stdout",
     "output_type": "stream",
     "text": [
      "[[-12.54545455 -10.90909091]\n",
      " [-10.54545455  -8.90909091]\n",
      " [ -8.54545455  -4.90909091]\n",
      " [ -6.54545455  -1.90909091]\n",
      " [ -4.54545455  -0.90909091]\n",
      " [ -0.54545455   1.09090909]\n",
      " [  6.45454545   2.09090909]\n",
      " [  6.45454545   3.09090909]\n",
      " [  7.45454545   5.09090909]\n",
      " [ 10.45454545   6.09090909]\n",
      " [ 12.45454545  10.09090909]]\n"
     ]
    },
    {
     "data": {
      "text/plain": [
       "<matplotlib.collections.PathCollection at 0x217d3069a60>"
      ]
     },
     "execution_count": 22,
     "metadata": {},
     "output_type": "execute_result"
    },
    {
     "data": {
      "image/png": "[encoded data removed]",
      "text/plain": [
       "<Figure size 432x288 with 1 Axes>"
      ]
     },
     "metadata": {
      "needs_background": "light"
     },
     "output_type": "display_data"
    }
   ],
   "source": [
    "#subtracting mean from xi\n",
    "X_meaned=XT-np.mean(XT,axis=0)\n",
    "print(X_meaned)\n",
    "plt.figure\n",
    "plt.scatter(X_meaned[:,0], X_meaned[:,1])\n",
    "plt.scatter(XT[:,0], XT[:,1])"
   ]
  },
  {
   "cell_type": "code",
   "execution_count": 23,
   "id": "84b48092",
   "metadata": {},
   "outputs": [],
   "source": [
    "#Finding Covariance"
   ]
  },
  {
   "cell_type": "code",
   "execution_count": 25,
   "id": "2ec8d343",
   "metadata": {},
   "outputs": [
    {
     "name": "stdout",
     "output_type": "stream",
     "text": [
      "[[80.87272727 54.95454545]\n",
      " [54.95454545 40.69090909]]\n"
     ]
    }
   ],
   "source": [
    "C = np.cov(X_meaned,rowvar=False)\n",
    "print(C)"
   ]
  },
  {
   "cell_type": "code",
   "execution_count": 26,
   "id": "917c9b84",
   "metadata": {},
   "outputs": [
    {
     "name": "stdout",
     "output_type": "stream",
     "text": [
      "[119.29375452   2.26988184]\n",
      "[[ 0.81956216 -0.57299028]\n",
      " [ 0.57299028  0.81956216]]\n"
     ]
    }
   ],
   "source": [
    "eval,evec = np.linalg.eig(C)\n",
    "print(eval)\n",
    "print(evec)"
   ]
  },
  {
   "cell_type": "code",
   "execution_count": 27,
   "id": "6e5c5ab3",
   "metadata": {},
   "outputs": [],
   "source": [
    "sorted_index=np.argsort(eval)[::-1]\n",
    "sorted_eval=eval[sorted_index]\n",
    "sorted_evec=evec[:,sorted_index]"
   ]
  },
  {
   "cell_type": "code",
   "execution_count": 28,
   "id": "d8b22ff4",
   "metadata": {},
   "outputs": [
    {
     "name": "stdout",
     "output_type": "stream",
     "text": [
      "[[0.81956216]\n",
      " [0.57299028]]\n"
     ]
    }
   ],
   "source": [
    "n=1\n",
    "evec_subset=sorted_evec[:,0:n]\n",
    "print(evec_subset)"
   ]
  },
  {
   "cell_type": "code",
   "execution_count": 29,
   "id": "d86cc052",
   "metadata": {},
   "outputs": [],
   "source": [
    "#TransformDATA"
   ]
  },
  {
   "cell_type": "code",
   "execution_count": 30,
   "id": "4bd92a78",
   "metadata": {},
   "outputs": [
    {
     "name": "stdout",
     "output_type": "stream",
     "text": [
      "[[-16.53258291]\n",
      " [-13.74747803]\n",
      " [ -9.81639259]\n",
      " [ -6.45829743]\n",
      " [ -4.24618282]\n",
      " [  0.17804639]\n",
      " [  6.48797183]\n",
      " [  7.0609621 ]\n",
      " [  9.02650482]\n",
      " [ 12.05818159]\n",
      " [ 15.98926703]]\n"
     ]
    }
   ],
   "source": [
    "X_reduced=np.dot(evec_subset.transpose(),X_meaned.transpose()).transpose()\n",
    "print(X_reduced)"
   ]
  },
  {
   "cell_type": "code",
   "execution_count": 31,
   "id": "175d156f",
   "metadata": {},
   "outputs": [],
   "source": [
    "####################~~~~DIRECT METHOD~~~~~######################"
   ]
  },
  {
   "cell_type": "code",
   "execution_count": 32,
   "id": "61bfecdb",
   "metadata": {},
   "outputs": [
    {
     "name": "stdout",
     "output_type": "stream",
     "text": [
      "[[ 16.53258291]\n",
      " [ 13.74747803]\n",
      " [  9.81639259]\n",
      " [  6.45829743]\n",
      " [  4.24618282]\n",
      " [ -0.17804639]\n",
      " [ -6.48797183]\n",
      " [ -7.0609621 ]\n",
      " [ -9.02650482]\n",
      " [-12.05818159]\n",
      " [-15.98926703]]\n"
     ]
    }
   ],
   "source": [
    "from sklearn.decomposition import PCA\n",
    "pca = PCA(n_components=1)\n",
    "pca.fit(X_meaned)\n",
    "Xr=pca.transform(X_meaned)\n",
    "print(Xr)"
   ]
  },
  {
   "cell_type": "code",
   "execution_count": null,
   "id": "a708a324",
   "metadata": {},
   "outputs": [],
   "source": []
  }
 ],
 "metadata": {
  "kernelspec": {
   "display_name": "Python 3 (ipykernel)",
   "language": "python",
   "name": "python3"
  },
  "language_info": {
   "codemirror_mode": {
    "name": "ipython",
    "version": 3
   },
   "file_extension": ".py",
   "mimetype": "text/x-python",
   "name": "python",
   "nbconvert_exporter": "python",
   "pygments_lexer": "ipython3",
   "version": "3.9.12"
  }
 },
 "nbformat": 4,
 "nbformat_minor": 5
}
