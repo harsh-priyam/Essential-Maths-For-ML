{
 "cells": [
  {
   "cell_type": "code",
   "execution_count": 1,
   "id": "2f9afd73",
   "metadata": {},
   "outputs": [],
   "source": [
    "#define dataset"
   ]
  },
  {
   "cell_type": "code",
   "execution_count": 2,
   "id": "0036b4f7",
   "metadata": {},
   "outputs": [],
   "source": [
    "import numpy as np\n",
    "import matplotlib.pyplot as plt"
   ]
  },
  {
   "cell_type": "code",
   "execution_count": 6,
   "id": "402e77d8",
   "metadata": {},
   "outputs": [
    {
     "data": {
      "text/plain": [
       "<matplotlib.collections.PathCollection at 0x2d9a7c82820>"
      ]
     },
     "execution_count": 6,
     "metadata": {},
     "output_type": "execute_result"
    },
    {
     "data": {
      "image/png": "[encoded data removed]",
      "text/plain": [
       "<Figure size 432x288 with 1 Axes>"
      ]
     },
     "metadata": {
      "needs_background": "light"
     },
     "output_type": "display_data"
    }
   ],
   "source": [
    "X=np.array([[0,1,2,3,4,5,1,2,3,4,5,6,7,8],[1,2,3,3,5,5,0,1,1,2,3,5,6,6]])\n",
    "y=np.array([0,0,0,0,0,0,1,1,1,1,1,1,1,1])\n",
    "Xt = X.T\n",
    "plt.scatter(Xt[:,0],Xt[:,1],c=y)"
   ]
  },
  {
   "cell_type": "code",
   "execution_count": 7,
   "id": "322511fa",
   "metadata": {},
   "outputs": [],
   "source": [
    "#APPLY PCA"
   ]
  },
  {
   "cell_type": "code",
   "execution_count": 8,
   "id": "1635998d",
   "metadata": {},
   "outputs": [
    {
     "name": "stdout",
     "output_type": "stream",
     "text": [
      "[[-4.12701426]\n",
      " [-2.7190343 ]\n",
      " [-1.31105434]\n",
      " [-0.54074612]\n",
      " [ 1.50490558]\n",
      " [ 2.2752138 ]\n",
      " [-3.99437778]\n",
      " [-2.58639782]\n",
      " [-1.81608961]\n",
      " [-0.40810965]\n",
      " [ 0.99987031]\n",
      " [ 3.04552201]\n",
      " [ 4.45350197]\n",
      " [ 5.22381019]]\n"
     ]
    }
   ],
   "source": [
    "from sklearn.decomposition import PCA\n",
    "pca = PCA(n_components=1)\n",
    "pca.fit(Xt)\n",
    "Xr = pca.transform(Xt)\n",
    "print(Xr)"
   ]
  },
  {
   "cell_type": "code",
   "execution_count": 10,
   "id": "d65fe90e",
   "metadata": {},
   "outputs": [
    {
     "data": {
      "text/plain": [
       "<matplotlib.collections.PathCollection at 0x2d9ab446970>"
      ]
     },
     "execution_count": 10,
     "metadata": {},
     "output_type": "execute_result"
    },
    {
     "data": {
      "image/png": "[encoded data removed]",
      "text/plain": [
       "<Figure size 432x288 with 1 Axes>"
      ]
     },
     "metadata": {
      "needs_background": "light"
     },
     "output_type": "display_data"
    }
   ],
   "source": [
    "plt.scatter(Xr[:,0],Xr[:,0],c=y)"
   ]
  },
  {
   "cell_type": "code",
   "execution_count": 11,
   "id": "1ff42118",
   "metadata": {},
   "outputs": [],
   "source": [
    "######## NOW WE WILL APPLY LDA FOR THE DATA SEPARATION ############"
   ]
  },
  {
   "cell_type": "code",
   "execution_count": 12,
   "id": "6bd34111",
   "metadata": {},
   "outputs": [
    {
     "data": {
      "text/plain": [
       "<matplotlib.collections.PathCollection at 0x2d9ac55edc0>"
      ]
     },
     "execution_count": 12,
     "metadata": {},
     "output_type": "execute_result"
    },
    {
     "data": {
      "image/png": "[encoded data removed]",
      "text/plain": [
       "<Figure size 432x288 with 1 Axes>"
      ]
     },
     "metadata": {
      "needs_background": "light"
     },
     "output_type": "display_data"
    }
   ],
   "source": [
    "from sklearn.discriminant_analysis import LinearDiscriminantAnalysis\n",
    "lda = LinearDiscriminantAnalysis()\n",
    "X_lda = lda.fit_transform(Xt,y)\n",
    "plt.scatter(X_lda[:,0],X_lda[:,0],c=y)\n"
   ]
  },
  {
   "cell_type": "code",
   "execution_count": 13,
   "id": "e4bc4155",
   "metadata": {},
   "outputs": [
    {
     "name": "stdout",
     "output_type": "stream",
     "text": [
      "[[-2.86099902]\n",
      " [-2.93043111]\n",
      " [-2.9998632 ]\n",
      " [-1.08770334]\n",
      " [-3.13872739]\n",
      " [-1.22656753]\n",
      " [ 1.0327528 ]\n",
      " [ 0.96332071]\n",
      " [ 2.87548057]\n",
      " [ 2.80604847]\n",
      " [ 2.73661638]\n",
      " [ 0.68559233]\n",
      " [ 0.61616024]\n",
      " [ 2.5283201 ]]\n"
     ]
    }
   ],
   "source": [
    "print(X_lda)"
   ]
  },
  {
   "cell_type": "code",
   "execution_count": null,
   "id": "41495db0",
   "metadata": {},
   "outputs": [],
   "source": []
  }
 ],
 "metadata": {
  "kernelspec": {
   "display_name": "Python 3 (ipykernel)",
   "language": "python",
   "name": "python3"
  },
  "language_info": {
   "codemirror_mode": {
    "name": "ipython",
    "version": 3
   },
   "file_extension": ".py",
   "mimetype": "text/x-python",
   "name": "python",
   "nbconvert_exporter": "python",
   "pygments_lexer": "ipython3",
   "version": "3.9.12"
  }
 },
 "nbformat": 4,
 "nbformat_minor": 5
}
