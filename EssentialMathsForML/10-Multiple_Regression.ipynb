{
 "cells": [
  {
   "cell_type": "code",
   "execution_count": 1,
   "id": "f28e02a4",
   "metadata": {},
   "outputs": [],
   "source": [
    "import numpy as np\n",
    "import pandas as pd\n",
    "import matplotlib.pyplot as plt"
   ]
  },
  {
   "cell_type": "code",
   "execution_count": 2,
   "id": "fbeadba1",
   "metadata": {},
   "outputs": [],
   "source": [
    "score = pd.read_csv('startup.csv')"
   ]
  },
  {
   "cell_type": "code",
   "execution_count": 4,
   "id": "d26692df",
   "metadata": {},
   "outputs": [
    {
     "data": {
      "text/plain": [
       "(25, 4)"
      ]
     },
     "execution_count": 4,
     "metadata": {},
     "output_type": "execute_result"
    }
   ],
   "source": [
    "score.shape"
   ]
  },
  {
   "cell_type": "code",
   "execution_count": 5,
   "id": "247df1ab",
   "metadata": {},
   "outputs": [
    {
     "data": {
      "text/html": [
       "<div>\n",
       "<style scoped>\n",
       "    .dataframe tbody tr th:only-of-type {\n",
       "        vertical-align: middle;\n",
       "    }\n",
       "\n",
       "    .dataframe tbody tr th {\n",
       "        vertical-align: top;\n",
       "    }\n",
       "\n",
       "    .dataframe thead th {\n",
       "        text-align: right;\n",
       "    }\n",
       "</style>\n",
       "<table border=\"1\" class=\"dataframe\">\n",
       "  <thead>\n",
       "    <tr style=\"text-align: right;\">\n",
       "      <th></th>\n",
       "      <th>R&amp;D Spend</th>\n",
       "      <th>Administration</th>\n",
       "      <th>Marketing Spend</th>\n",
       "      <th>Profit</th>\n",
       "    </tr>\n",
       "  </thead>\n",
       "  <tbody>\n",
       "    <tr>\n",
       "      <th>0</th>\n",
       "      <td>178861</td>\n",
       "      <td>166189</td>\n",
       "      <td>354501</td>\n",
       "      <td>175570</td>\n",
       "    </tr>\n",
       "    <tr>\n",
       "      <th>1</th>\n",
       "      <td>132667</td>\n",
       "      <td>141145</td>\n",
       "      <td>305577</td>\n",
       "      <td>184276</td>\n",
       "    </tr>\n",
       "    <tr>\n",
       "      <th>2</th>\n",
       "      <td>168406</td>\n",
       "      <td>175239</td>\n",
       "      <td>343134</td>\n",
       "      <td>170434</td>\n",
       "    </tr>\n",
       "    <tr>\n",
       "      <th>3</th>\n",
       "      <td>131354</td>\n",
       "      <td>146718</td>\n",
       "      <td>326218</td>\n",
       "      <td>191799</td>\n",
       "    </tr>\n",
       "    <tr>\n",
       "      <th>4</th>\n",
       "      <td>165959</td>\n",
       "      <td>170415</td>\n",
       "      <td>322710</td>\n",
       "      <td>175296</td>\n",
       "    </tr>\n",
       "  </tbody>\n",
       "</table>\n",
       "</div>"
      ],
      "text/plain": [
       "   R&D Spend  Administration  Marketing Spend  Profit\n",
       "0     178861          166189           354501  175570\n",
       "1     132667          141145           305577  184276\n",
       "2     168406          175239           343134  170434\n",
       "3     131354          146718           326218  191799\n",
       "4     165959          170415           322710  175296"
      ]
     },
     "execution_count": 5,
     "metadata": {},
     "output_type": "execute_result"
    }
   ],
   "source": [
    "score.head()"
   ]
  },
  {
   "cell_type": "code",
   "execution_count": 6,
   "id": "b4766c89",
   "metadata": {},
   "outputs": [
    {
     "name": "stdout",
     "output_type": "stream",
     "text": [
      "    R&D Spend  Administration  Marketing Spend\n",
      "0      178861          166189           354501\n",
      "1      132667          141145           305577\n",
      "2      168406          175239           343134\n",
      "3      131354          146718           326218\n",
      "4      165959          170415           322710\n",
      "5      165581          168322           327391\n",
      "6      120677          178971           302597\n",
      "7      134414          126495           386823\n",
      "8      133793          174915           337372\n",
      "9      148709          154354           342477\n",
      "10     152560          173731           376058\n",
      "11     129238          152933           344030\n",
      "12     135211          149739           307720\n",
      "13     129284          169760           333514\n",
      "14     160010          122933           356265\n",
      "15     172074          147089           361513\n",
      "16     126435          137929           392567\n",
      "17     168545          169433           359947\n",
      "18     155149          129091           384985\n",
      "19     176078          179156           347524\n",
      "20     149314          131449           305142\n",
      "21     145143          157403           302836\n",
      "22     163735          122041           314259\n",
      "23     145523          140378           356220\n",
      "24     148558          151868           372203 0     175570\n",
      "1     184276\n",
      "2     170434\n",
      "3     191799\n",
      "4     175296\n",
      "5     176572\n",
      "6     186552\n",
      "7     167828\n",
      "8     180693\n",
      "9     157416\n",
      "10    183179\n",
      "11    167413\n",
      "12    162526\n",
      "13    186346\n",
      "14    160714\n",
      "15    151523\n",
      "16    195422\n",
      "17    154903\n",
      "18    177032\n",
      "19    177725\n",
      "20    167607\n",
      "21    187074\n",
      "22    171776\n",
      "23    192543\n",
      "24    162051\n",
      "Name: Profit, dtype: int64\n"
     ]
    }
   ],
   "source": [
    "#Preparing the data\n",
    "\n",
    "X = score.drop('Profit',axis=1)\n",
    "Y = score['Profit']\n",
    "print(X,Y)"
   ]
  },
  {
   "cell_type": "code",
   "execution_count": 7,
   "id": "31e0c0ee",
   "metadata": {},
   "outputs": [],
   "source": [
    "from sklearn.model_selection import train_test_split\n",
    "X_train, X_test, Y_train, Y_test = train_test_split(X,Y, test_size = 0.2)"
   ]
  },
  {
   "cell_type": "code",
   "execution_count": 9,
   "id": "ff184943",
   "metadata": {},
   "outputs": [
    {
     "data": {
      "text/plain": [
       "LinearRegression()"
      ]
     },
     "execution_count": 9,
     "metadata": {},
     "output_type": "execute_result"
    }
   ],
   "source": [
    "from sklearn.linear_model import LinearRegression\n",
    "regressor  = LinearRegression()\n",
    "regressor.fit(X_train,Y_train)"
   ]
  },
  {
   "cell_type": "code",
   "execution_count": 10,
   "id": "d47a2e59",
   "metadata": {},
   "outputs": [
    {
     "name": "stdout",
     "output_type": "stream",
     "text": [
      "238066.49698676827\n",
      "[-0.42183857  0.09628599 -0.04275482]\n"
     ]
    }
   ],
   "source": [
    "print(regressor.intercept_)\n",
    "print(regressor.coef_)"
   ]
  },
  {
   "cell_type": "code",
   "execution_count": 11,
   "id": "18cb9c4b",
   "metadata": {},
   "outputs": [],
   "source": [
    "#making predictionS:\n",
    "y_pred = regressor.predict(X_test)"
   ]
  },
  {
   "cell_type": "code",
   "execution_count": 12,
   "id": "df80ebea",
   "metadata": {},
   "outputs": [
    {
     "data": {
      "text/html": [
       "<div>\n",
       "<style scoped>\n",
       "    .dataframe tbody tr th:only-of-type {\n",
       "        vertical-align: middle;\n",
       "    }\n",
       "\n",
       "    .dataframe tbody tr th {\n",
       "        vertical-align: top;\n",
       "    }\n",
       "\n",
       "    .dataframe thead th {\n",
       "        text-align: right;\n",
       "    }\n",
       "</style>\n",
       "<table border=\"1\" class=\"dataframe\">\n",
       "  <thead>\n",
       "    <tr style=\"text-align: right;\">\n",
       "      <th></th>\n",
       "      <th>Actual</th>\n",
       "      <th>Predicted</th>\n",
       "    </tr>\n",
       "  </thead>\n",
       "  <tbody>\n",
       "    <tr>\n",
       "      <th>0</th>\n",
       "      <td>175570</td>\n",
       "      <td>163461.073637</td>\n",
       "    </tr>\n",
       "    <tr>\n",
       "      <th>12</th>\n",
       "      <td>162526</td>\n",
       "      <td>182290.535958</td>\n",
       "    </tr>\n",
       "    <tr>\n",
       "      <th>8</th>\n",
       "      <td>180693</td>\n",
       "      <td>184045.033057</td>\n",
       "    </tr>\n",
       "    <tr>\n",
       "      <th>10</th>\n",
       "      <td>183179</td>\n",
       "      <td>174360.373032</td>\n",
       "    </tr>\n",
       "    <tr>\n",
       "      <th>24</th>\n",
       "      <td>162051</td>\n",
       "      <td>174108.290319</td>\n",
       "    </tr>\n",
       "  </tbody>\n",
       "</table>\n",
       "</div>"
      ],
      "text/plain": [
       "    Actual      Predicted\n",
       "0   175570  163461.073637\n",
       "12  162526  182290.535958\n",
       "8   180693  184045.033057\n",
       "10  183179  174360.373032\n",
       "24  162051  174108.290319"
      ]
     },
     "execution_count": 12,
     "metadata": {},
     "output_type": "execute_result"
    }
   ],
   "source": [
    "df = pd.DataFrame({'Actual': Y_test, 'Predicted': y_pred})\n",
    "df"
   ]
  },
  {
   "cell_type": "code",
   "execution_count": 15,
   "id": "b1c1b86b",
   "metadata": {},
   "outputs": [
    {
     "name": "stdout",
     "output_type": "stream",
     "text": [
      "MSE: 154329107.27\n",
      "R2_score: -0.93\n"
     ]
    }
   ],
   "source": [
    "from sklearn.metrics import mean_squared_error, r2_score\n",
    "print('MSE: %.2f' % mean_squared_error(Y_test,y_pred))\n",
    "print('R2_score: %.2f' % r2_score(Y_test,y_pred))"
   ]
  },
  {
   "cell_type": "code",
   "execution_count": 16,
   "id": "e4cc5b16",
   "metadata": {},
   "outputs": [],
   "source": [
    "#Plot Outputs"
   ]
  },
  {
   "cell_type": "code",
   "execution_count": 19,
   "id": "f4c011fc",
   "metadata": {},
   "outputs": [
    {
     "data": {
      "image/png": "[encoded data removed]",
      "text/plain": [
       "<Figure size 432x288 with 1 Axes>"
      ]
     },
     "metadata": {},
     "output_type": "display_data"
    }
   ],
   "source": [
    "plt.scatter(X_test['Administration'], Y_test, color = 'black')\n",
    "plt.scatter(X_test['Administration'], y_pred, color= 'blue')\n",
    "plt.xticks(())\n",
    "plt.yticks(())\n",
    "plt.show()"
   ]
  },
  {
   "cell_type": "code",
   "execution_count": 20,
   "id": "48861cad",
   "metadata": {},
   "outputs": [
    {
     "data": {
      "image/png": "[encoded data removed]",
      "text/plain": [
       "<Figure size 432x288 with 1 Axes>"
      ]
     },
     "metadata": {},
     "output_type": "display_data"
    }
   ],
   "source": [
    "plt.scatter(X_test['R&D Spend'], Y_test, color = 'yellow')\n",
    "plt.scatter(X_test['R&D Spend'], y_pred, color= 'green')\n",
    "plt.xticks(())\n",
    "plt.yticks(())\n",
    "plt.show()"
   ]
  },
  {
   "cell_type": "code",
   "execution_count": null,
   "id": "aa9ea2b3",
   "metadata": {},
   "outputs": [],
   "source": []
  }
 ],
 "metadata": {
  "kernelspec": {
   "display_name": "Python 3 (ipykernel)",
   "language": "python",
   "name": "python3"
  },
  "language_info": {
   "codemirror_mode": {
    "name": "ipython",
    "version": 3
   },
   "file_extension": ".py",
   "mimetype": "text/x-python",
   "name": "python",
   "nbconvert_exporter": "python",
   "pygments_lexer": "ipython3",
   "version": "3.9.12"
  }
 },
 "nbformat": 4,
 "nbformat_minor": 5
}
