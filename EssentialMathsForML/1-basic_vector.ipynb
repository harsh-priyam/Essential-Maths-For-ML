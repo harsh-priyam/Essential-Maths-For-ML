{
 "cells": [
  {
   "cell_type": "code",
   "execution_count": 1,
   "id": "8b63a694",
   "metadata": {},
   "outputs": [],
   "source": [
    "import numpy as np"
   ]
  },
  {
   "cell_type": "code",
   "execution_count": 2,
   "id": "f5d3ffc5",
   "metadata": {},
   "outputs": [],
   "source": [
    "v = np.array([1,-1,2])\n",
    "w = np.array([2,5,2])"
   ]
  },
  {
   "cell_type": "code",
   "execution_count": 3,
   "id": "5b36cd1f",
   "metadata": {},
   "outputs": [
    {
     "data": {
      "text/plain": [
       "array([3, 4, 4])"
      ]
     },
     "execution_count": 3,
     "metadata": {},
     "output_type": "execute_result"
    }
   ],
   "source": [
    "v+w"
   ]
  },
  {
   "cell_type": "code",
   "execution_count": 4,
   "id": "f17d15cc",
   "metadata": {},
   "outputs": [
    {
     "data": {
      "text/plain": [
       "array([-1, -6,  0])"
      ]
     },
     "execution_count": 4,
     "metadata": {},
     "output_type": "execute_result"
    }
   ],
   "source": [
    "v-w"
   ]
  },
  {
   "cell_type": "code",
   "execution_count": 5,
   "id": "6373ab7b",
   "metadata": {},
   "outputs": [
    {
     "name": "stdout",
     "output_type": "stream",
     "text": [
      "[ 3 -3  6]\n"
     ]
    }
   ],
   "source": [
    "print(3*v)"
   ]
  },
  {
   "cell_type": "code",
   "execution_count": 7,
   "id": "b63ac854",
   "metadata": {},
   "outputs": [
    {
     "name": "stdout",
     "output_type": "stream",
     "text": [
      "2.449489742783178\n"
     ]
    }
   ],
   "source": [
    "print(np.linalg.norm(v)) #prints the length of vector"
   ]
  },
  {
   "cell_type": "code",
   "execution_count": 8,
   "id": "308adc8c",
   "metadata": {},
   "outputs": [],
   "source": [
    "s = np.dot(v,w)"
   ]
  },
  {
   "cell_type": "code",
   "execution_count": 9,
   "id": "7f0fc421",
   "metadata": {},
   "outputs": [
    {
     "data": {
      "text/plain": [
       "1"
      ]
     },
     "execution_count": 9,
     "metadata": {},
     "output_type": "execute_result"
    }
   ],
   "source": [
    "s"
   ]
  },
  {
   "cell_type": "code",
   "execution_count": null,
   "id": "f54d1d6a",
   "metadata": {},
   "outputs": [],
   "source": []
  }
 ],
 "metadata": {
  "kernelspec": {
   "display_name": "Python 3 (ipykernel)",
   "language": "python",
   "name": "python3"
  },
  "language_info": {
   "codemirror_mode": {
    "name": "ipython",
    "version": 3
   },
   "file_extension": ".py",
   "mimetype": "text/x-python",
   "name": "python",
   "nbconvert_exporter": "python",
   "pygments_lexer": "ipython3",
   "version": "3.9.12"
  }
 },
 "nbformat": 4,
 "nbformat_minor": 5
}
